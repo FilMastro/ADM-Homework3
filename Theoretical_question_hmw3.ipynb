{
 "cells": [
  {
   "cell_type": "markdown",
   "id": "c71f5a39-7738-4c1b-85ef-41062ff679f0",
   "metadata": {},
   "source": [
    "# 5. Algorithmic Question"
   ]
  },
  {
   "cell_type": "markdown",
   "id": "87391230-5184-4bd3-83dc-7924693765f9",
   "metadata": {
    "jp-MarkdownHeadingCollapsed": true,
    "tags": []
   },
   "source": [
    " You consult for a personal trainer who has a back-to-back sequence of requests for appointments. A sequence of requests is of the form : 30, 40, 25, 50, 30, 20 where each number is the time that the person who makes the appointment wants to spend. You need to accept some requests, however you need a break between them, so you cannot accept two consecutive requests. For example, [30, 50, 20] is an acceptable solution (of duration 100), but [30, 40, 50, 20] is not, because 30 and 40 are two consecutive appointments. Your goal is to provide to the personal trainer a schedule that maximizes the total length of the accepted appointments. For example, in the previous instance, the optimal solution is [40, 50, 20], of total duration 110."
   ]
  },
  {
   "cell_type": "markdown",
   "id": "f70fc1fa-fd45-4593-96db-5dfd2b68395e",
   "metadata": {},
   "source": [
    "-----------------------------------------"
   ]
  },
  {
   "cell_type": "markdown",
   "id": "40ea8517-050d-4025-8ad1-7e825162310c",
   "metadata": {},
   "source": [
    "1. Write an algorithm that computes the acceptable solution with the longest possible duration.\n",
    "2. Implement a program that given in input an instance in the form given above, gives the optimal solution."
   ]
  },
  {
   "cell_type": "markdown",
   "id": "4671af60-d566-49d7-ae23-5e9d34505adb",
   "metadata": {},
   "source": [
    "The following algorithm is actually the merge of 2 algorithm :\n",
    "--\n",
    "- Simple Comparison of the two possible sub lists (taking every other number)\n",
    "- Using a greedy Heuristic\n",
    "\n",
    "The app_setter function basically checks the input array with this two very simple algorithm and then compares the results. We chose this approach in order to shield the function from the vulnerabilities of the single algorithms since there are specific cases in which is possible to demonstrate the ineffectivness of the two. Nevertheless this cross result solves many problems from this point of view\n",
    "\n"
   ]
  },
  {
   "cell_type": "code",
   "execution_count": 85,
   "id": "d38b16a8-c468-49e8-9b19-e065757554d0",
   "metadata": {},
   "outputs": [],
   "source": [
    "def app_setter(A):\n",
    "    l1,l2,l3,B,t = [],[],[],A.copy(),0\n",
    "    try:\n",
    "        for i in range(0,len(A),2):           #simple comparison of the two everyother lists\n",
    "            l1.append(A[i])\n",
    "        for i in range(1,len(A),2):\n",
    "            l2.append(A[i])\n",
    "    except IndexError:\n",
    "        pass\n",
    "    \n",
    "    while t < len(B)/2:                        #greedy\n",
    "        m = max(B)\n",
    "        try:\n",
    "            l3.append(m)\n",
    "        except:\n",
    "            pass\n",
    "        try :\n",
    "            B[B.index(m)+1] = 0\n",
    "            B[B.index(m)-1] = 0\n",
    "            B[B.index(m)] = 0\n",
    "            B.remove(0)\n",
    "        except IndexError:\n",
    "            pass\n",
    "        t+=1\n",
    "    \n",
    "    if sum(l1)>= sum(l2) and sum(l1)>=sum(l3):\n",
    "        return l1\n",
    "    if sum(l2)>= sum(l1) and sum(l2)>=sum(l3):\n",
    "        return l2\n",
    "    if sum(l3)>= sum(l1) and sum(l3)>=sum(l2):\n",
    "        return l3"
   ]
  },
  {
   "cell_type": "code",
   "execution_count": 86,
   "id": "0e500a51-f77b-4680-9c0f-0e2e6fd66346",
   "metadata": {},
   "outputs": [
    {
     "data": {
      "text/plain": [
       "[50, 50, 50, 120]"
      ]
     },
     "execution_count": 86,
     "metadata": {},
     "output_type": "execute_result"
    }
   ],
   "source": [
    "app_setter([10, 50, 10, 50, 10, 50, 150, 120])"
   ]
  },
  {
   "cell_type": "code",
   "execution_count": null,
   "id": "5eed8aa3-018e-4b94-a271-d2eeac9a97fb",
   "metadata": {},
   "outputs": [],
   "source": [
    "[10, 50, 10, 50, 10, 50, 150, 120]\n",
    "[150, 50, 50]  = 250       ---> Algorithm greedy\n",
    "[50, 50, 50, 120]  = 270   ---> Simple every other i+1\n",
    "[10, 10, 10, 150]  = 180   ---> Simple every other"
   ]
  }
 ],
 "metadata": {
  "kernelspec": {
   "display_name": "Python 3 (ipykernel)",
   "language": "python",
   "name": "python3"
  },
  "language_info": {
   "codemirror_mode": {
    "name": "ipython",
    "version": 3
   },
   "file_extension": ".py",
   "mimetype": "text/x-python",
   "name": "python",
   "nbconvert_exporter": "python",
   "pygments_lexer": "ipython3",
   "version": "3.8.2"
  }
 },
 "nbformat": 4,
 "nbformat_minor": 5
}
