{
 "cells": [
  {
   "cell_type": "code",
   "execution_count": 1,
   "id": "169aa755-8d93-4d13-aec2-20595a321354",
   "metadata": {},
   "outputs": [],
   "source": [
    "from bs4 import BeautifulSoup\n",
    "import lxml\n",
    "import requests\n",
    "import re\n",
    "from tqdm import tqdm"
   ]
  },
  {
   "cell_type": "code",
   "execution_count": 5,
   "id": "7e2ae362-d483-4fbc-9f8f-41714e7580e1",
   "metadata": {},
   "outputs": [
    {
     "name": "stderr",
     "output_type": "stream",
     "text": [
      "100%|████████████████████████████████████████████████████████████████████████████████| 100/100 [02:16<00:00,  1.37s/it]\n"
     ]
    }
   ],
   "source": [
    "with open('links.txt', 'r',encoding='utf-8') as f:\n",
    "    for i in tqdm(range(1,101)):\n",
    "        link = f.readline()\n",
    "        cnt = requests.get(str(link))\n",
    "        soup = BeautifulSoup(cnt.content, features=\"lxml\")\n",
    "        with open('article_{}.html'.format(i),'w',encoding='utf-8') as k:\n",
    "            k.write(soup.prettify())\n",
    "            k.close()\n",
    "    f.close()        "
   ]
  }
 ],
 "metadata": {
  "kernelspec": {
   "display_name": "Laboratorio",
   "language": "python",
   "name": "laboratorio"
  },
  "language_info": {
   "codemirror_mode": {
    "name": "ipython",
    "version": 3
   },
   "file_extension": ".py",
   "mimetype": "text/x-python",
   "name": "python",
   "nbconvert_exporter": "python",
   "pygments_lexer": "ipython3",
   "version": "3.9.2"
  }
 },
 "nbformat": 4,
 "nbformat_minor": 5
}
