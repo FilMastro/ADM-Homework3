{
 "cells": [
  {
   "cell_type": "code",
   "execution_count": 17,
   "metadata": {},
   "outputs": [],
   "source": [
    "from sklearn.feature_extraction.text import CountVectorizer\n",
    "from sklearn.feature_extraction.text import TfidfVectorizer\n",
    "\n",
    "def search_engine2():\n",
    "    query = str(input(\"Search these words: \"))\n",
    "    query = [query]\n",
    "    vectorizer = CountVectorizer()\n",
    "    X = vectorizer.fit_transform(query)\n",
    "    vectorizer = TfidfVectorizer(analyzer='word')\n",
    "    X = vectorizer.fit_transform(query)\n",
    "    vectorizer.get_feature_names()\n",
    "\n",
    "    print(X.toarray())\n",
    "    \n"
   ]
  },
  {
   "cell_type": "code",
   "execution_count": 19,
   "metadata": {},
   "outputs": [
    {
     "name": "stdout",
     "output_type": "stream",
     "text": [
      "Search these words: saiyan race male male male saiyan saiyan saiyan saiyan\n",
      "[[0.50709255 0.16903085 0.84515425]]\n"
     ]
    }
   ],
   "source": [
    "search_engine2()"
   ]
  },
  {
   "cell_type": "code",
   "execution_count": null,
   "metadata": {},
   "outputs": [],
   "source": [
    "def search_engine2(dataset):\n",
    "    user_query = str(input(\"Search these words: \"))\n",
    "    user_doc = [user_query]\n",
    "    print(user_doc)\n",
    "    tf_vect = TfidfVectorizer(stop_words='english',vocabulary=vocab_2) \n",
    "    tf_idf_query = tf_vect.fit_transform(user_doc)\n",
    "    tf_idf_query = tf_idf_query.todok()\n",
    "    print(tf_idf_query)\n",
    "    tf_idf_query = list(tf_idf_query.values())\n",
    "    \n",
    "    print(tf_idf_query)\n",
    "    \n",
    "    query = user_query.split(\" \")\n",
    "    \n",
    "    docs_to_check = {}\n",
    "    wrd_count = 0\n",
    "\n",
    "    for word in set(query):\n",
    "        id_w = vocab_2[word]\n",
    "        for elem in inverted_index_2[id_w]:\n",
    "            if elem[0] not in docs_to_check:\n",
    "                docs_to_check[elem[0]] = np.zeros(len(set(query)))\n",
    "            docs_to_check[elem[0]][wrd_count] = elem[1]\n",
    "        wrd_count+=1\n",
    "        print(len(docs_to_check))\n",
    "        \n",
    "    print(docs_to_check)\n",
    "    print(wrd_count)\n",
    "    \n",
    "    for doc, vector in docs_to_check.items():      \n",
    "        doc_sim = 1 - scipy.spatial.distance.cosine(tf_idf_query,vector)\n",
    "        docs_to_check[doc] = doc_sim\n",
    "\n",
    "    \n",
    "    return(docs_to_check)"
   ]
  },
  {
   "cell_type": "code",
   "execution_count": null,
   "metadata": {},
   "outputs": [],
   "source": []
  },
  {
   "cell_type": "code",
   "execution_count": null,
   "metadata": {},
   "outputs": [],
   "source": []
  },
  {
   "cell_type": "code",
   "execution_count": null,
   "metadata": {},
   "outputs": [],
   "source": []
  },
  {
   "cell_type": "code",
   "execution_count": null,
   "metadata": {},
   "outputs": [],
   "source": []
  }
 ],
 "metadata": {
  "kernelspec": {
   "display_name": "Python 3",
   "language": "python",
   "name": "python3"
  },
  "language_info": {
   "codemirror_mode": {
    "name": "ipython",
    "version": 3
   },
   "file_extension": ".py",
   "mimetype": "text/x-python",
   "name": "python",
   "nbconvert_exporter": "python",
   "pygments_lexer": "ipython3",
   "version": "3.8.3"
  }
 },
 "nbformat": 4,
 "nbformat_minor": 4
}
