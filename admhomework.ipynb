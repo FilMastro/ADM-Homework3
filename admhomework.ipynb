{
 "cells": [
  {
   "cell_type": "markdown",
   "id": "db67cf9c-4fd6-460c-8c83-50aabbeb190e",
   "metadata": {},
   "source": [
    "1.1 Get the list of animes\n",
    "\n",
    "With the for loop I get the url of all the pages (50 per page except the last one which has less,383 pag). We 'send' a request to the page, to collect the ursl. We read the html and take the href attributes of the tag. The command tqdm is useful because it shows the progress status."
   ]
  },
  {
   "cell_type": "code",
   "execution_count": null,
   "id": "7d7f4c6c-90d8-49b1-8309-cdfa7381cb9f",
   "metadata": {},
   "outputs": [],
   "source": [
    "urls=[]\n",
    "for i in tqdm(range(0,20000,50)):\n",
    "  url='https://myanimelist.net/topanime.php?limit='+str(i)\n",
    "  \n",
    "  soup= BeautifulSoup(requests.get(url).text,'html.parser')\n",
    "\n",
    "  for tag in soup.find_all('tr'):\n",
    "    links=tag.find_all('a')\n",
    "    for l in links:\n",
    "      if type(l.get('id'))== str and len(l.contents[0]) >1:\n",
    "        urls.append(l.get('href'))\n",
    "\n"
   ]
  },
  {
   "cell_type": "markdown",
   "id": "9fef0745-0bbd-4145-920b-d7e80a765781",
   "metadata": {},
   "source": [
    "We need to save it as text"
   ]
  },
  {
   "cell_type": "code",
   "execution_count": null,
   "id": "3be32e20-7d43-4711-8af8-340494cd4ad9",
   "metadata": {},
   "outputs": [],
   "source": [
    "with open('urls.txt', 'w', encoding='utf-8') as f: #open the file con write, chiude da solo in automatico, lo trovo in file sample data\n",
    "    for line in urls:\n",
    "        f.write(line)\n",
    "        f.write('\\n')"
   ]
  },
  {
   "cell_type": "markdown",
   "id": "65b7d228-9851-4a18-872b-c2851605bced",
   "metadata": {},
   "source": [
    "1.2 Crawl animes\n",
    "\n",
    "Create the folders. Put all of them under \"pages\". Each folder has a name that refers to the number of the page from which the links it contains come from."
   ]
  },
  {
   "cell_type": "code",
   "execution_count": null,
   "id": "8927b2df-a647-425e-945d-b36da8a93a79",
   "metadata": {},
   "outputs": [],
   "source": [
    "import os\n",
    "for page in tqdm(range(1, 384)):\n",
    "    folder = \"page\"+str(page)\n",
    "    path = \"/content/drive/MyDrive/Anime_folder\"+folder\n",
    "    os.mkdir(path)"
   ]
  },
  {
   "cell_type": "markdown",
   "id": "2f929372-d3ab-4865-9403-7e3272c2eed1",
   "metadata": {},
   "source": [
    "Try for the first 150:ok. Try to collect them in group of 3."
   ]
  },
  {
   "cell_type": "code",
   "execution_count": null,
   "id": "7fc40289-b697-4843-8f0e-c7652ada0338",
   "metadata": {},
   "outputs": [],
   "source": [
    "for page in tqdm(range(4, 5)): \n",
    "   \n",
    "  folder = \"/content/drive/MyDrive/Anime_folderpage\"+str(page+1)\n",
    "  update_page = 50*page\n",
    "  for i in range(0,50): \n",
    "    time.sleep(3) \n",
    "    url = f'{urls[update_page+i]}'\n",
    "    response = requests.get(url)   \n",
    "    filename = r\"\"+folder+\"/anime_\"+str(update_page+i+1)+\".html\"\n",
    "    with open(filename,'w', encoding='utf-8') as f:\n",
    "      f.write(response.text)"
   ]
  },
  {
   "cell_type": "markdown",
   "id": "c2a86cf7-47e6-4fa0-b012-90396793a012",
   "metadata": {},
   "source": [
    "**1.3**\n",
    "Parsing downloaded pages.\n",
    "Here I created a function to extract each of the features that we need.\n",
    "\n"
   ]
  },
  {
   "cell_type": "code",
   "execution_count": null,
   "id": "e7ec4fec-2ab8-4a6b-8446-e9fd8993e86d",
   "metadata": {},
   "outputs": [],
   "source": [
    "def animeTitle(html):\n",
    "  with open(html,'r') as f:\n",
    "    soup= BeautifulSoup(f, 'html.parser')\n",
    "    animeTitle=soup.find(\"h1\", attrs = {\"class\": \"title-name h1_bold_none\"}).string\n",
    "    return(animeTitle)\n",
    "\n"
   ]
  },
  {
   "cell_type": "code",
   "execution_count": null,
   "id": "ce7e526f-4813-4918-b1b8-14a597d9aa79",
   "metadata": {},
   "outputs": [],
   "source": [
    "animeTitle('/content/to8760/article_4016.html')"
   ]
  },
  {
   "cell_type": "code",
   "execution_count": null,
   "id": "5873ae46-f5ea-4086-b3ee-9f258bc0af78",
   "metadata": {},
   "outputs": [],
   "source": [
    "def animeScore(html):\n",
    "  with open(html,'r') as f:\n",
    "    soup= BeautifulSoup(f)\n",
    "    for i in range(10):\n",
    "      score=soup.find_all('div' ,attrs = {\"class\": \"score-label score-\"+str(i)})\n",
    "      for j in score:\n",
    "        return float(j.text)"
   ]
  },
  {
   "cell_type": "code",
   "execution_count": null,
   "id": "fe50eaba-63d1-423e-8bb5-938efd0e8d28",
   "metadata": {},
   "outputs": [],
   "source": [
    "animeScore('/content/drive/MyDrive/Anime_folderpage1/anime_1.html')"
   ]
  },
  {
   "cell_type": "code",
   "execution_count": null,
   "id": "e96bc8be-0fff-4069-8528-cb9daca22682",
   "metadata": {},
   "outputs": [],
   "source": [
    "def animeRank(html):\n",
    "  with open(html,'r') as f:\n",
    "    soup= BeautifulSoup(f,'html.parser')\n",
    "    b= soup.find('span',{'class':'numbers ranked'})\n",
    "    rank=int(b.find('strong').contents[0].strip()[1:])  \n",
    "    return(rank)"
   ]
  },
  {
   "cell_type": "code",
   "execution_count": null,
   "id": "fa5898f0-fdf5-4c6b-85cc-fd059d205b3b",
   "metadata": {},
   "outputs": [],
   "source": [
    "animeRank('/content/drive/MyDrive/Anime_folderpage1/anime_1.html')\n",
    "\n"
   ]
  },
  {
   "cell_type": "code",
   "execution_count": null,
   "id": "36f8f3eb-b5db-49db-92ec-b0fcdeab2680",
   "metadata": {},
   "outputs": [],
   "source": [
    "import re"
   ]
  },
  {
   "cell_type": "code",
   "execution_count": null,
   "id": "0983e248-396c-45ba-88ef-99caab31c71a",
   "metadata": {},
   "outputs": [],
   "source": [
    "def animeNumberofepisode(html_string):\n",
    "  with open(html_string, 'r') as f:\n",
    "    soup = BeautifulSoup(f, 'html.parser')\n",
    "    \n",
    "    A=soup.find(text=re.compile('Episodes:')).parent.parent.text.split()[-1]      \n",
    "    return(A)"
   ]
  },
  {
   "cell_type": "code",
   "execution_count": null,
   "id": "322d6a4d-d68f-44df-bbb7-e02ec89020fd",
   "metadata": {},
   "outputs": [],
   "source": [
    "animeNumberofepisode('/content/drive/MyDrive/Anime_folderpage1/anime_1.html')\n",
    "\n"
   ]
  },
  {
   "cell_type": "code",
   "execution_count": null,
   "id": "1598d30a-d563-4b96-914e-f41215ec2f42",
   "metadata": {},
   "outputs": [],
   "source": [
    "def animePopularity(html):\n",
    "  with open(html,'r') as f:\n",
    "    soup= BeautifulSoup(f,'html.parser')\n",
    "    rank=int(str(soup.find(class_=\"numbers popularity\").text).split('#')[-1])  \n",
    "    return(rank)"
   ]
  },
  {
   "cell_type": "code",
   "execution_count": null,
   "id": "8ae17752-1e06-43ed-842e-4c18fdf05674",
   "metadata": {},
   "outputs": [],
   "source": [
    "animePopularity('/content/drive/MyDrive/Anime_folderpage1/anime_1.html')"
   ]
  },
  {
   "cell_type": "code",
   "execution_count": null,
   "id": "c0ea4e47-c123-46fc-ab2f-c75f910524e1",
   "metadata": {},
   "outputs": [],
   "source": [
    "def animeDescription(html_string): #I think that this function works well.\n",
    "  with open(html_string, 'r') as f:\n",
    "    soup = BeautifulSoup(f, 'html.parser')\n",
    "    A=soup.find(itemprop=\"description\")\n",
    "    return A.get_text()"
   ]
  },
  {
   "cell_type": "code",
   "execution_count": null,
   "id": "0dc0fe63-a1c1-47cc-8e91-46396da1e29d",
   "metadata": {},
   "outputs": [],
   "source": [
    "animeDescription('/content/drive/MyDrive/Anime_folderpage1/anime_1.html')"
   ]
  },
  {
   "cell_type": "code",
   "execution_count": null,
   "id": "1d8c9339-cf49-4493-9aaf-22a64316f727",
   "metadata": {},
   "outputs": [],
   "source": [
    "def animeUsers(html_string): \n",
    "  with open(html_string, 'r') as f:\n",
    "    soup = BeautifulSoup(f, 'html.parser')\n",
    "    A=soup.find(itemprop=\"ratingCount\")\n",
    "    return int(A.get_text())"
   ]
  },
  {
   "cell_type": "code",
   "execution_count": null,
   "id": "f7396ddf-09ed-4d4e-9245-6987f62364a7",
   "metadata": {},
   "outputs": [],
   "source": [
    "animeUsers('/content/drive/MyDrive/Anime_folderpage1/anime_1.html')"
   ]
  },
  {
   "cell_type": "code",
   "execution_count": null,
   "id": "5b2f283f-b296-494d-b9b3-7da2aaf4d0a0",
   "metadata": {
    "tags": []
   },
   "outputs": [],
   "source": [
    "def animeType(html_string):\n",
    "  with open(html_string, 'r') as f:\n",
    "    soup = BeautifulSoup(f, 'html.parser')\n",
    "    \n",
    "    A=soup.find(text=re.compile('Type:')).parent.parent.text.split()[-1]      \n",
    "    return(A)"
   ]
  },
  {
   "cell_type": "code",
   "execution_count": null,
   "id": "6746d2d7-ce6d-45f8-b8d0-5504207a8d5d",
   "metadata": {},
   "outputs": [],
   "source": [
    "animeType('/content/drive/MyDrive/Anime_folderpage1/anime_1.html')"
   ]
  },
  {
   "cell_type": "code",
   "execution_count": null,
   "id": "086bd012-41ca-44bf-b6a5-5f2c000db213",
   "metadata": {},
   "outputs": [],
   "source": [
    "from datetime import datetime\n",
    "def fai_date(a: list):\n",
    "    \n",
    "    string = ''\n",
    "    for i in a:\n",
    "        string += i\n",
    "        if i != a[-1]:\n",
    "            string += ' '\n",
    "    string = string.replace(',', '')\n",
    "    date = datetime.strptime(string, '%b %d %Y')\n",
    "    return date"
   ]
  },
  {
   "cell_type": "code",
   "execution_count": null,
   "id": "1cdfad7f-f538-4dff-ac4f-f9c5749a1216",
   "metadata": {},
   "outputs": [],
   "source": [
    "def animeRelDate(html_string):\n",
    "  with open(html_string, 'r') as f:\n",
    "    soup = BeautifulSoup(f, 'html.parser')\n",
    "    \n",
    "    A= fai_date(soup.find(text=re.compile('Aired:'), class_=\"dark_text\").parent.text.split()[1:4]  ).date()   \n",
    "    return(A)"
   ]
  },
  {
   "cell_type": "code",
   "execution_count": null,
   "id": "83ac0c51-b100-41a7-bcde-3b98999c1892",
   "metadata": {},
   "outputs": [],
   "source": [
    "animeRelDate('/content/drive/MyDrive/Anime_folderpage1/anime_1.html')"
   ]
  },
  {
   "cell_type": "code",
   "execution_count": null,
   "id": "45d72962-6906-4a0a-bd57-fe4154d21ee3",
   "metadata": {},
   "outputs": [],
   "source": [
    "def animeEndDate(html_string):\n",
    "  with open(html_string, 'r') as f:\n",
    "    soup = BeautifulSoup(f, 'html.parser')\n",
    "    \n",
    "    A= fai_date(soup.find(text=re.compile('Aired:'), class_=\"dark_text\").parent.text.split()[5:8]   ).date() \n",
    "    return(A)"
   ]
  },
  {
   "cell_type": "code",
   "execution_count": null,
   "id": "6ef3c784-a9b7-4fa9-8bbb-1a9fcf6fd2f0",
   "metadata": {},
   "outputs": [],
   "source": [
    "print(animeEndDate('/content/drive/MyDrive/Anime_folderpage1/anime_1.html'))"
   ]
  },
  {
   "cell_type": "code",
   "execution_count": null,
   "id": "e27fb919-f6b9-4e6d-b5e1-27dc2651f882",
   "metadata": {},
   "outputs": [],
   "source": [
    "def animeRelated(html_string):  \n",
    "  animeRelated = []\n",
    "  with open(html_string, 'r') as f:\n",
    "    soup = BeautifulSoup(f, 'html.parser')\n",
    "    related = soup.find_all(\"table\", {\"class\":\"anime_detail_related_anime\"})\n",
    "    for i in related:\n",
    "      links = i.find_all('a')\n",
    "      for link in links:        \n",
    "          animeRelated.append(f'{link.contents[0]}')\n",
    "\n",
    "  return (animeRelated)\n",
    "     "
   ]
  },
  {
   "cell_type": "code",
   "execution_count": null,
   "id": "d4cbad65-f991-4c9d-97e7-ac1d1ed41136",
   "metadata": {},
   "outputs": [],
   "source": [
    " animeRelated('/content/drive/MyDrive/Anime_folderpage1/anime_1.html')"
   ]
  },
  {
   "cell_type": "code",
   "execution_count": null,
   "id": "327a03da-c36f-4847-b6e1-9c5ebf3b5be7",
   "metadata": {},
   "outputs": [],
   "source": [
    "def animeCharacter(html_string):\n",
    "  personaggi=[]\n",
    "  with open(html_string, 'r') as f:\n",
    "    soup = BeautifulSoup(f, 'html.parser')\n",
    "    \n",
    "    A= soup.find_all(class_=\"h3_characters_voice_actors\")    \n",
    "    for a in A:\n",
    "      personaggi.append(a.text)\n",
    "    return(personaggi) "
   ]
  },
  {
   "cell_type": "code",
   "execution_count": null,
   "id": "cdf26f0f-3207-429c-88bb-1cf7cbc54145",
   "metadata": {},
   "outputs": [],
   "source": [
    "animeCharacter('/content/drive/MyDrive/Anime_folderpage1/anime_1.html')"
   ]
  },
  {
   "cell_type": "code",
   "execution_count": null,
   "id": "336ca3dc-3634-4284-a649-320b5dfa05c4",
   "metadata": {},
   "outputs": [],
   "source": [
    "def animeVoices(html_string):\n",
    "  personaggi=[]\n",
    "  with open(html_string, 'r') as f:\n",
    "    soup = BeautifulSoup(f, 'html.parser')\n",
    "    \n",
    "    A= soup.find_all(class_=\"va-t ar pl4 pr4\")   \n",
    "    for a in A:\n",
    "      personaggi.append(a.text)\n",
    "\n",
    "      \n",
    "    return(personaggi) \n",
    "   "
   ]
  },
  {
   "cell_type": "code",
   "execution_count": null,
   "id": "ac1e0b51-dc2f-4a2f-b542-1d72fb0f72b0",
   "metadata": {},
   "outputs": [],
   "source": [
    "animeVoices('/content/drive/MyDrive/Anime_folderpage1/anime_1.html')"
   ]
  },
  {
   "cell_type": "code",
   "execution_count": null,
   "id": "614aaa72-61e8-45bd-a636-94a9ccad4f0b",
   "metadata": {},
   "outputs": [],
   "source": [
    "def animeStaff(html_string):\n",
    "  with open(html_string, 'r') as f:\n",
    "    soup = BeautifulSoup(f, 'html.parser')\n",
    "    divs= soup.find_all('div',{'class':\"detail-characters-list clearfix\"})\n",
    "    i=1\n",
    "    staff=[]\n",
    "    for td in divs[-1].find_all('td',{'class':'borderClass'}):\n",
    "      if (i)==0:\n",
    "        a,small= td.find_all(['small','a'])\n",
    "        staff.append((a.contents[0],small.contents[0].split(',')))\n",
    "      i= (i+1)%2\n",
    "  return(staff)"
   ]
  },
  {
   "cell_type": "code",
   "execution_count": null,
   "id": "48470a8d-95a4-48be-b440-ed41d00ce365",
   "metadata": {},
   "outputs": [],
   "source": [
    "animeStaff('/content/drive/MyDrive/Anime_folderpage1/anime_1.html')"
   ]
  },
  {
   "cell_type": "code",
   "execution_count": null,
   "id": "51cf2770-fa66-4478-817d-5240c1872709",
   "metadata": {},
   "outputs": [],
   "source": [
    " def animeNumMembers(html):\n",
    "  with open(html,'r') as f:\n",
    "    soup= BeautifulSoup(f,'html.parser')\n",
    "    rank=  int(str(soup.find(class_=\"numbers members\").text).split()[1].replace(',', ''))      \n",
    "    return(rank)\n",
    " \n",
    " "
   ]
  },
  {
   "cell_type": "code",
   "execution_count": null,
   "id": "0ba6e838-279b-4139-b1b8-afbe44b16c08",
   "metadata": {},
   "outputs": [],
   "source": [
    "animeNumMembers('/content/drive/MyDrive/Anime_folderpage1/anime_1.html')"
   ]
  },
  {
   "cell_type": "markdown",
   "id": "29a8daae-21ea-4912-9213-c4e265690109",
   "metadata": {},
   "source": [
    "I need to crete a tsv.file."
   ]
  },
  {
   "cell_type": "code",
   "execution_count": null,
   "id": "ddaf074d-471b-4665-aa6f-3586f6e8c185",
   "metadata": {},
   "outputs": [],
   "source": [
    "i = 1\n",
    "col = ['animeTitle', 'animeType', 'animeNumEpisode', 'releaseDate', 'endDate', 'animeNumMembers', 'animeScore', \\\n",
    "           'animeUsers', 'animeRank', 'animePopularity', 'animeDescription', 'animeRelated', 'animeCharacters', \\\n",
    "           'animeVoices', 'animeStaff']\n",
    "while i < 2600:\n",
    "    \n",
    "    path = '/content/drive/MyDrive/Anime_folderpage'+str(((i-1)//50)+1)+'/anime_'+str(i)+'.html'\n",
    "    dic = {}\n",
    "    \n",
    "    \n",
    "    dic[col[0]] = animeTitle(path)\n",
    "    dic[col[1]] = animeType(path)\n",
    "    dic[col[2]] = animeNumberofepisode(path)\n",
    "    try:\n",
    "      dic[col[3]] = animeRelDate(path)\n",
    "    except Exception:\n",
    "      dic[col[3]] = \"\"\n",
    "    try:\n",
    "      dic[col[4]] = animeEndDate(path)\n",
    "    except Exception:\n",
    "      dic[col[4]] = \"\"\n",
    "    dic[col[5]]= animeNumMembers(path)\n",
    "    dic[col[6]]= animeScore(path)\n",
    "    dic[col[7]]= animeUsers(path)\n",
    "    dic[col[8]]= animeRank(path)\n",
    "    dic[col[9]]= animePopularity(path)\n",
    "    dic[col[10]]= animeDescription(path)\n",
    "    try:\n",
    "      dic[col[11]]= animeRelated(path)\n",
    "    except Exception:\n",
    "      dic[col[11]] = \"\"\n",
    "    dic[col[12]]= animeCharacter(path)\n",
    "    dic[col[13]]= animeVoices(path)\n",
    "    try:\n",
    "      dic[col[14]]= animeStaff(path)\n",
    "    except Exception:\n",
    "       dic[col[14]] = \"\"\n",
    "    with open('/content/drive/MyDrive/Anime_folderpage'+str(((i-1)//50)+1)+'/anime_'+str(i)+ '.tsv', 'w',encoding=\"utf-8\") as page:\n",
    "      i += 1\n",
    "      for c in col:\n",
    "        if c in dic:\n",
    "           page.write(str(dic[c]) + '\\t')\n",
    "        else:\n",
    "          page.write(' \\t')\n",
    "    \n",
    "    "
   ]
  },
  {
   "cell_type": "code",
   "execution_count": null,
   "id": "7d81858a-cc76-4bf6-8dab-906b174651d7",
   "metadata": {},
   "outputs": [],
   "source": [
    "with open('/content/drive/MyDrive/Anime_folderpage_name'+ '.tsv', 'w',encoding=\"utf-8\") as page:\n",
    "  for c in col:\n",
    "    page.write(c+'\\t')"
   ]
  },
  {
   "cell_type": "markdown",
   "id": "2edc2a9f-2944-4d81-bd1d-784ad8c4436e",
   "metadata": {},
   "source": [
    "# create dataframe"
   ]
  },
  {
   "cell_type": "code",
   "execution_count": 3,
   "id": "adc18180-f335-4fd2-b6f7-e9352f3c35de",
   "metadata": {},
   "outputs": [],
   "source": [
    "import pandas as pd\n",
    "import csv\n",
    "from tqdm import tqdm"
   ]
  },
  {
   "cell_type": "code",
   "execution_count": 4,
   "id": "9d8fd7a0-5578-4077-9ae2-90249dfed174",
   "metadata": {},
   "outputs": [],
   "source": [
    "df = pd.DataFrame()\n",
    "df = pd.DataFrame(columns = ['animeTitle', 'animeType', 'animeNumEpisode', 'releaseDate', 'endDate', 'animeNumMembers', 'animeScore', \\\n",
    "           'animeUsers', 'animeRank', 'animePopularity', 'animeDescription', 'animeRelated', 'animeCharacters', \\\n",
    "           'animeVoices', 'animeStaff'])"
   ]
  },
  {
   "cell_type": "code",
   "execution_count": 5,
   "id": "0d494585-9c08-40b3-86d9-e62b9b3b2232",
   "metadata": {},
   "outputs": [
    {
     "name": "stderr",
     "output_type": "stream",
     "text": [
      "100%|██████████| 19127/19127 [02:58<00:00, 106.95it/s]\n"
     ]
    }
   ],
   "source": [
    "path = \"/Users/mac/Desktop/I'm a data scientist b****/ADM/HMW_3/cosi/anime_\"\n",
    "def fillcsv(m,n):\n",
    "    for elem in tqdm(range(m,n)):\n",
    "        tsv_file = open(path+str(elem)+\".tsv\")\n",
    "        read_tsv = csv.reader(tsv_file, delimiter=\"\\t\")\n",
    "        cont = 0\n",
    "        for anime in read_tsv:\n",
    "            if cont == 1:\n",
    "                anime = anime[0:15]\n",
    "                df.loc[elem] = anime\n",
    "            cont +=1\n",
    "fillcsv(1,19128)\n"
   ]
  },
  {
   "cell_type": "code",
   "execution_count": 6,
   "id": "268c5702-e93d-41f5-bcc1-4f600f84f0e7",
   "metadata": {},
   "outputs": [
    {
     "data": {
      "text/html": [
       "<div>\n",
       "<style scoped>\n",
       "    .dataframe tbody tr th:only-of-type {\n",
       "        vertical-align: middle;\n",
       "    }\n",
       "\n",
       "    .dataframe tbody tr th {\n",
       "        vertical-align: top;\n",
       "    }\n",
       "\n",
       "    .dataframe thead th {\n",
       "        text-align: right;\n",
       "    }\n",
       "</style>\n",
       "<table border=\"1\" class=\"dataframe\">\n",
       "  <thead>\n",
       "    <tr style=\"text-align: right;\">\n",
       "      <th></th>\n",
       "      <th>animeTitle</th>\n",
       "      <th>animeType</th>\n",
       "      <th>animeNumEpisode</th>\n",
       "      <th>releaseDate</th>\n",
       "      <th>endDate</th>\n",
       "      <th>animeNumMembers</th>\n",
       "      <th>animeScore</th>\n",
       "      <th>animeUsers</th>\n",
       "      <th>animeRank</th>\n",
       "      <th>animePopularity</th>\n",
       "      <th>animeDescription</th>\n",
       "      <th>animeRelated</th>\n",
       "      <th>animeCharacters</th>\n",
       "      <th>animeVoices</th>\n",
       "      <th>animeStaff</th>\n",
       "    </tr>\n",
       "  </thead>\n",
       "  <tbody>\n",
       "    <tr>\n",
       "      <th>1</th>\n",
       "      <td>Fullmetal Alchemist: Brotherhood</td>\n",
       "      <td>TV</td>\n",
       "      <td>64</td>\n",
       "      <td>2009-04-05 00:00:00</td>\n",
       "      <td>2010-07-04 00:00:00</td>\n",
       "      <td>2674644</td>\n",
       "      <td>9.16</td>\n",
       "      <td>1622384</td>\n",
       "      <td>1</td>\n",
       "      <td>3</td>\n",
       "      <td>After a horrific alchemy experiment goes wrong...</td>\n",
       "      <td>['Fullmetal Alchemist', 'Fullmetal Alchemist: ...</td>\n",
       "      <td>['Elric, Edward', 'Elric, Alphonse', 'Mustang,...</td>\n",
       "      <td>['Park, Romi', 'Kugimiya, Rie', 'Miki, Shinich...</td>\n",
       "      <td>[['Cook Justin', ['Producer']], ['Yonai Norito...</td>\n",
       "    </tr>\n",
       "    <tr>\n",
       "      <th>2</th>\n",
       "      <td>Gintama°</td>\n",
       "      <td>TV</td>\n",
       "      <td>51</td>\n",
       "      <td>2015-04-08 00:00:00</td>\n",
       "      <td>2016-03-30 00:00:00</td>\n",
       "      <td>483584</td>\n",
       "      <td>9.09</td>\n",
       "      <td>169476</td>\n",
       "      <td>2</td>\n",
       "      <td>337</td>\n",
       "      <td>Gintoki, Shinpachi, and Kagura return as the f...</td>\n",
       "      <td>['Gintama', 'Gintama Movie 2: Kanketsu-hen - Y...</td>\n",
       "      <td>['Sakata, Gintoki', 'Kagura', 'Shimura, Shinpa...</td>\n",
       "      <td>['Sugita, Tomokazu', 'Kugimiya, Rie', 'Sakaguc...</td>\n",
       "      <td>[['Fujita Youichi', ['Director', 'Storyboard',...</td>\n",
       "    </tr>\n",
       "    <tr>\n",
       "      <th>3</th>\n",
       "      <td>Shingeki no Kyojin Season 3 Part 2</td>\n",
       "      <td>TV</td>\n",
       "      <td>10</td>\n",
       "      <td>2019-04-29 00:00:00</td>\n",
       "      <td>2019-07-01 00:00:00</td>\n",
       "      <td>1594869</td>\n",
       "      <td>9.09</td>\n",
       "      <td>1087519</td>\n",
       "      <td>3</td>\n",
       "      <td>33</td>\n",
       "      <td>Seeking to restore humanity's diminishing hope...</td>\n",
       "      <td>['Shingeki no Kyojin', 'Shingeki no Kyojin Sea...</td>\n",
       "      <td>['Levi', 'Ackerman, Mikasa', 'Yeager, Eren', '...</td>\n",
       "      <td>['Kamiya, Hiroshi', 'Ishikawa, Yui', 'Kaji, Yu...</td>\n",
       "      <td>[['Yabuta Shuuhei', ['Producer']], ['Wada Jouj...</td>\n",
       "    </tr>\n",
       "    <tr>\n",
       "      <th>4</th>\n",
       "      <td>Steins;Gate</td>\n",
       "      <td>TV</td>\n",
       "      <td>24</td>\n",
       "      <td>2011-04-06 00:00:00</td>\n",
       "      <td>2011-09-14 00:00:00</td>\n",
       "      <td>2090123</td>\n",
       "      <td>9.09</td>\n",
       "      <td>1109700</td>\n",
       "      <td>4</td>\n",
       "      <td>11</td>\n",
       "      <td>The self-proclaimed mad scientist Rintarou Oka...</td>\n",
       "      <td>['Steins;Gate', 'ChäoS;HEAd', 'Robotics;Notes'...</td>\n",
       "      <td>['Okabe, Rintarou', 'Makise, Kurisu', 'Shiina,...</td>\n",
       "      <td>['Miyano, Mamoru', 'Imai, Asami', 'Hanazawa, K...</td>\n",
       "      <td>[['Iwasa Gaku', ['Producer']], ['Yasuda Takesh...</td>\n",
       "    </tr>\n",
       "    <tr>\n",
       "      <th>5</th>\n",
       "      <td>Fruits Basket: The Final</td>\n",
       "      <td>TV</td>\n",
       "      <td>13</td>\n",
       "      <td>2021-04-06 00:00:00</td>\n",
       "      <td>2021-06-29 00:00:00</td>\n",
       "      <td>274818</td>\n",
       "      <td>9.07</td>\n",
       "      <td>113310</td>\n",
       "      <td>5</td>\n",
       "      <td>651</td>\n",
       "      <td>Hundreds of years ago, the Chinese Zodiac spir...</td>\n",
       "      <td>['Fruits Basket', 'Fruits Basket 2nd Season']</td>\n",
       "      <td>['Souma, Kyou', 'Honda, Tooru', 'Souma, Yuki',...</td>\n",
       "      <td>['Uchida, Yuuma', 'Iwami, Manaka', 'Shimazaki,...</td>\n",
       "      <td>[['Ibata Yoshihide', ['Director']], ['Aketagaw...</td>\n",
       "    </tr>\n",
       "    <tr>\n",
       "      <th>...</th>\n",
       "      <td>...</td>\n",
       "      <td>...</td>\n",
       "      <td>...</td>\n",
       "      <td>...</td>\n",
       "      <td>...</td>\n",
       "      <td>...</td>\n",
       "      <td>...</td>\n",
       "      <td>...</td>\n",
       "      <td>...</td>\n",
       "      <td>...</td>\n",
       "      <td>...</td>\n",
       "      <td>...</td>\n",
       "      <td>...</td>\n",
       "      <td>...</td>\n",
       "      <td>...</td>\n",
       "    </tr>\n",
       "    <tr>\n",
       "      <th>19123</th>\n",
       "      <td>Kaihouku: Chikan Harem</td>\n",
       "      <td>OVA</td>\n",
       "      <td>1</td>\n",
       "      <td>2007-03-25 00:00:00</td>\n",
       "      <td></td>\n",
       "      <td>78</td>\n",
       "      <td></td>\n",
       "      <td></td>\n",
       "      <td></td>\n",
       "      <td>18234</td>\n",
       "      <td></td>\n",
       "      <td>['Tsuukin Kairaku: Chikan de Go!!']</td>\n",
       "      <td>[]</td>\n",
       "      <td>[]</td>\n",
       "      <td></td>\n",
       "    </tr>\n",
       "    <tr>\n",
       "      <th>19124</th>\n",
       "      <td>Konbini Shoujo Z</td>\n",
       "      <td>OVA</td>\n",
       "      <td></td>\n",
       "      <td></td>\n",
       "      <td></td>\n",
       "      <td>559</td>\n",
       "      <td></td>\n",
       "      <td></td>\n",
       "      <td></td>\n",
       "      <td>12775</td>\n",
       "      <td></td>\n",
       "      <td></td>\n",
       "      <td>[]</td>\n",
       "      <td>[]</td>\n",
       "      <td></td>\n",
       "    </tr>\n",
       "    <tr>\n",
       "      <th>19125</th>\n",
       "      <td>Korogashi Ryouta</td>\n",
       "      <td>OVA</td>\n",
       "      <td>3</td>\n",
       "      <td>1990-11-21 00:00:00</td>\n",
       "      <td>1991-11-21 00:00:00</td>\n",
       "      <td>310</td>\n",
       "      <td></td>\n",
       "      <td></td>\n",
       "      <td></td>\n",
       "      <td>14511</td>\n",
       "      <td>Takao Ryota is a pervy but well-meaning biker-...</td>\n",
       "      <td>['Korogashi Ryouta']</td>\n",
       "      <td>[]</td>\n",
       "      <td>[]</td>\n",
       "      <td>[['Ochiai Masamune', ['Director']]]</td>\n",
       "    </tr>\n",
       "    <tr>\n",
       "      <th>19126</th>\n",
       "      <td>Kyonyuu Elf Oyako Saimin</td>\n",
       "      <td>OVA</td>\n",
       "      <td>2</td>\n",
       "      <td>2022-01-28 00:00:00</td>\n",
       "      <td></td>\n",
       "      <td>128</td>\n",
       "      <td></td>\n",
       "      <td></td>\n",
       "      <td></td>\n",
       "      <td>17357</td>\n",
       "      <td></td>\n",
       "      <td></td>\n",
       "      <td>['Agraliel, Ephildis', 'Agraliel, Almia']</td>\n",
       "      <td>[]</td>\n",
       "      <td>[['Raika Ken', ['Director']]]</td>\n",
       "    </tr>\n",
       "    <tr>\n",
       "      <th>19127</th>\n",
       "      <td>Mahou Shoujo Elena DVD-BOX Special</td>\n",
       "      <td>Special</td>\n",
       "      <td>1</td>\n",
       "      <td>2015-12-11 00:00:00</td>\n",
       "      <td></td>\n",
       "      <td>330</td>\n",
       "      <td></td>\n",
       "      <td></td>\n",
       "      <td></td>\n",
       "      <td>14501</td>\n",
       "      <td>Short special included in the DVD-BOX of Mahou...</td>\n",
       "      <td>['Mahou Shoujo Elena']</td>\n",
       "      <td>[]</td>\n",
       "      <td>[]</td>\n",
       "      <td></td>\n",
       "    </tr>\n",
       "  </tbody>\n",
       "</table>\n",
       "<p>19127 rows × 15 columns</p>\n",
       "</div>"
      ],
      "text/plain": [
       "                               animeTitle animeType animeNumEpisode  \\\n",
       "1        Fullmetal Alchemist: Brotherhood        TV              64   \n",
       "2                                Gintama°        TV              51   \n",
       "3      Shingeki no Kyojin Season 3 Part 2        TV              10   \n",
       "4                             Steins;Gate        TV              24   \n",
       "5                Fruits Basket: The Final        TV              13   \n",
       "...                                   ...       ...             ...   \n",
       "19123              Kaihouku: Chikan Harem       OVA               1   \n",
       "19124                    Konbini Shoujo Z       OVA                   \n",
       "19125                    Korogashi Ryouta       OVA               3   \n",
       "19126            Kyonyuu Elf Oyako Saimin       OVA               2   \n",
       "19127  Mahou Shoujo Elena DVD-BOX Special   Special               1   \n",
       "\n",
       "               releaseDate              endDate animeNumMembers animeScore  \\\n",
       "1      2009-04-05 00:00:00  2010-07-04 00:00:00         2674644       9.16   \n",
       "2      2015-04-08 00:00:00  2016-03-30 00:00:00          483584       9.09   \n",
       "3      2019-04-29 00:00:00  2019-07-01 00:00:00         1594869       9.09   \n",
       "4      2011-04-06 00:00:00  2011-09-14 00:00:00         2090123       9.09   \n",
       "5      2021-04-06 00:00:00  2021-06-29 00:00:00          274818       9.07   \n",
       "...                    ...                  ...             ...        ...   \n",
       "19123  2007-03-25 00:00:00                                   78              \n",
       "19124                                                       559              \n",
       "19125  1990-11-21 00:00:00  1991-11-21 00:00:00             310              \n",
       "19126  2022-01-28 00:00:00                                  128              \n",
       "19127  2015-12-11 00:00:00                                  330              \n",
       "\n",
       "      animeUsers animeRank animePopularity  \\\n",
       "1        1622384         1               3   \n",
       "2         169476         2             337   \n",
       "3        1087519         3              33   \n",
       "4        1109700         4              11   \n",
       "5         113310         5             651   \n",
       "...          ...       ...             ...   \n",
       "19123                                18234   \n",
       "19124                                12775   \n",
       "19125                                14511   \n",
       "19126                                17357   \n",
       "19127                                14501   \n",
       "\n",
       "                                        animeDescription  \\\n",
       "1      After a horrific alchemy experiment goes wrong...   \n",
       "2      Gintoki, Shinpachi, and Kagura return as the f...   \n",
       "3      Seeking to restore humanity's diminishing hope...   \n",
       "4      The self-proclaimed mad scientist Rintarou Oka...   \n",
       "5      Hundreds of years ago, the Chinese Zodiac spir...   \n",
       "...                                                  ...   \n",
       "19123                                                      \n",
       "19124                                                      \n",
       "19125  Takao Ryota is a pervy but well-meaning biker-...   \n",
       "19126                                                      \n",
       "19127  Short special included in the DVD-BOX of Mahou...   \n",
       "\n",
       "                                            animeRelated  \\\n",
       "1      ['Fullmetal Alchemist', 'Fullmetal Alchemist: ...   \n",
       "2      ['Gintama', 'Gintama Movie 2: Kanketsu-hen - Y...   \n",
       "3      ['Shingeki no Kyojin', 'Shingeki no Kyojin Sea...   \n",
       "4      ['Steins;Gate', 'ChäoS;HEAd', 'Robotics;Notes'...   \n",
       "5          ['Fruits Basket', 'Fruits Basket 2nd Season']   \n",
       "...                                                  ...   \n",
       "19123                ['Tsuukin Kairaku: Chikan de Go!!']   \n",
       "19124                                                      \n",
       "19125                               ['Korogashi Ryouta']   \n",
       "19126                                                      \n",
       "19127                             ['Mahou Shoujo Elena']   \n",
       "\n",
       "                                         animeCharacters  \\\n",
       "1      ['Elric, Edward', 'Elric, Alphonse', 'Mustang,...   \n",
       "2      ['Sakata, Gintoki', 'Kagura', 'Shimura, Shinpa...   \n",
       "3      ['Levi', 'Ackerman, Mikasa', 'Yeager, Eren', '...   \n",
       "4      ['Okabe, Rintarou', 'Makise, Kurisu', 'Shiina,...   \n",
       "5      ['Souma, Kyou', 'Honda, Tooru', 'Souma, Yuki',...   \n",
       "...                                                  ...   \n",
       "19123                                                 []   \n",
       "19124                                                 []   \n",
       "19125                                                 []   \n",
       "19126          ['Agraliel, Ephildis', 'Agraliel, Almia']   \n",
       "19127                                                 []   \n",
       "\n",
       "                                             animeVoices  \\\n",
       "1      ['Park, Romi', 'Kugimiya, Rie', 'Miki, Shinich...   \n",
       "2      ['Sugita, Tomokazu', 'Kugimiya, Rie', 'Sakaguc...   \n",
       "3      ['Kamiya, Hiroshi', 'Ishikawa, Yui', 'Kaji, Yu...   \n",
       "4      ['Miyano, Mamoru', 'Imai, Asami', 'Hanazawa, K...   \n",
       "5      ['Uchida, Yuuma', 'Iwami, Manaka', 'Shimazaki,...   \n",
       "...                                                  ...   \n",
       "19123                                                 []   \n",
       "19124                                                 []   \n",
       "19125                                                 []   \n",
       "19126                                                 []   \n",
       "19127                                                 []   \n",
       "\n",
       "                                              animeStaff  \n",
       "1      [['Cook Justin', ['Producer']], ['Yonai Norito...  \n",
       "2      [['Fujita Youichi', ['Director', 'Storyboard',...  \n",
       "3      [['Yabuta Shuuhei', ['Producer']], ['Wada Jouj...  \n",
       "4      [['Iwasa Gaku', ['Producer']], ['Yasuda Takesh...  \n",
       "5      [['Ibata Yoshihide', ['Director']], ['Aketagaw...  \n",
       "...                                                  ...  \n",
       "19123                                                     \n",
       "19124                                                     \n",
       "19125                [['Ochiai Masamune', ['Director']]]  \n",
       "19126                      [['Raika Ken', ['Director']]]  \n",
       "19127                                                     \n",
       "\n",
       "[19127 rows x 15 columns]"
      ]
     },
     "metadata": {},
     "output_type": "display_data"
    }
   ],
   "source": [
    "\n",
    "display(df)"
   ]
  },
  {
   "cell_type": "code",
   "execution_count": 157,
   "id": "c7d90770-d3d2-463d-ad83-11b6926fbde3",
   "metadata": {},
   "outputs": [
    {
     "data": {
      "text/plain": [
       "animeTitle                           Bikkuriman: Moen Zone no Himitsu\n",
       "animeType                                                       Movie\n",
       "animeNumEpisode                                                     1\n",
       "releaseDate                                       1988-07-09 00:00:00\n",
       "endDate                                                              \n",
       "animeNumMembers                                                   263\n",
       "animeScore                                                           \n",
       "animeUsers                                                           \n",
       "animeRank                                                       15009\n",
       "animePopularity                                                 15027\n",
       "animeDescription                                                     \n",
       "animeRelated                                           ['Bikkuriman']\n",
       "animeCharacters                                                    []\n",
       "animeVoices                                                        []\n",
       "animeStaff          [['Aoyama Mitsuru', ['Animation Director']], [...\n",
       "Name: 15009, dtype: object"
      ]
     },
     "execution_count": 157,
     "metadata": {},
     "output_type": "execute_result"
    }
   ],
   "source": [
    "df.loc[15009]"
   ]
  },
  {
   "cell_type": "code",
   "execution_count": 182,
   "id": "d4f44e23-539b-49ad-9a68-372381a53093",
   "metadata": {},
   "outputs": [],
   "source": [
    "df.to_csv('Animeds.csv', index=False)"
   ]
  },
  {
   "cell_type": "markdown",
   "id": "5d87ecef-17e3-47ae-add5-90a0d61e9488",
   "metadata": {
    "tags": []
   },
   "source": [
    "# 2. Search Engine"
   ]
  },
  {
   "cell_type": "markdown",
   "id": "4fe87d64-6a56-4426-bb41-3d1ff98fdb9b",
   "metadata": {},
   "source": [
    "Now, we want to create two different Search Engines that, given as input a query, return the animes that match the query.\n",
    "\n",
    "First, you must pre-process all the information collected for each anime by:\n",
    "\n",
    "Removing stopwords\n",
    "Removing punctuation\n",
    "Stemming\n",
    "Anything else you think it's needed\n",
    "---"
   ]
  },
  {
   "cell_type": "markdown",
   "id": "3d3297b7-b048-4a97-a6f4-98f861924aa6",
   "metadata": {},
   "source": [
    "- Importing necessary libraries:"
   ]
  },
  {
   "cell_type": "code",
   "execution_count": 13,
   "id": "791480e5-7ce8-439e-8a2a-376d0346f6b2",
   "metadata": {},
   "outputs": [],
   "source": [
    "from collections import defaultdict"
   ]
  },
  {
   "cell_type": "code",
   "execution_count": 14,
   "id": "29b072ec-2bdd-4fd6-965d-3d5a7f62cce9",
   "metadata": {},
   "outputs": [
    {
     "name": "stdout",
     "output_type": "stream",
     "text": [
      "['i', 'me', 'my', 'myself', 'we', 'our', 'ours', 'ourselves', 'you', \"you're\", \"you've\", \"you'll\", \"you'd\", 'your', 'yours', 'yourself', 'yourselves', 'he', 'him', 'his', 'himself', 'she', \"she's\", 'her', 'hers', 'herself', 'it', \"it's\", 'its', 'itself', 'they', 'them', 'their', 'theirs', 'themselves', 'what', 'which', 'who', 'whom', 'this', 'that', \"that'll\", 'these', 'those', 'am', 'is', 'are', 'was', 'were', 'be', 'been', 'being', 'have', 'has', 'had', 'having', 'do', 'does', 'did', 'doing', 'a', 'an', 'the', 'and', 'but', 'if', 'or', 'because', 'as', 'until', 'while', 'of', 'at', 'by', 'for', 'with', 'about', 'against', 'between', 'into', 'through', 'during', 'before', 'after', 'above', 'below', 'to', 'from', 'up', 'down', 'in', 'out', 'on', 'off', 'over', 'under', 'again', 'further', 'then', 'once', 'here', 'there', 'when', 'where', 'why', 'how', 'all', 'any', 'both', 'each', 'few', 'more', 'most', 'other', 'some', 'such', 'no', 'nor', 'not', 'only', 'own', 'same', 'so', 'than', 'too', 'very', 's', 't', 'can', 'will', 'just', 'don', \"don't\", 'should', \"should've\", 'now', 'd', 'll', 'm', 'o', 're', 've', 'y', 'ain', 'aren', \"aren't\", 'couldn', \"couldn't\", 'didn', \"didn't\", 'doesn', \"doesn't\", 'hadn', \"hadn't\", 'hasn', \"hasn't\", 'haven', \"haven't\", 'isn', \"isn't\", 'ma', 'mightn', \"mightn't\", 'mustn', \"mustn't\", 'needn', \"needn't\", 'shan', \"shan't\", 'shouldn', \"shouldn't\", 'wasn', \"wasn't\", 'weren', \"weren't\", 'won', \"won't\", 'wouldn', \"wouldn't\"]\n"
     ]
    },
    {
     "name": "stderr",
     "output_type": "stream",
     "text": [
      "[nltk_data] Downloading package stopwords to /Users/mac/nltk_data...\n",
      "[nltk_data]   Package stopwords is already up-to-date!\n"
     ]
    }
   ],
   "source": [
    "import nltk\n",
    "nltk.download('stopwords')\n",
    "from nltk.corpus import stopwords\n",
    "print(stopwords.words('english'))"
   ]
  },
  {
   "cell_type": "markdown",
   "id": "7f228654-7ae9-4cae-9de1-aea547b23868",
   "metadata": {},
   "source": [
    "- removing punctuation:"
   ]
  },
  {
   "cell_type": "code",
   "execution_count": 15,
   "id": "37388baf-0e8a-47e5-bd8a-ea5fa820661e",
   "metadata": {},
   "outputs": [
    {
     "data": {
      "text/plain": [
       "'Seeking to restore humanitys diminishing hope the Survey Corps embark on a mission to retake Wall Maria where the battle against the merciless Titans takes the stage once againReturning to the tattered Shiganshina District that was once his home Eren Yeager and the Corps find the town oddly unoccupied by Titans Even after the outer gate is plugged they strangely encounter no opposition The mission progresses smoothly until Armin Arlert highly suspicious of the enemys absence discovers distressing signs of a potential scheme against them Shingeki no Kyojin Season 3 Part 2 follows Eren as he vows to take back everything that was once his Alongside him the Survey Corps strive—through countless sacrifices—to carve a path towards victory and uncover the secrets locked away in the Yeager familys basement'"
      ]
     },
     "execution_count": 15,
     "metadata": {},
     "output_type": "execute_result"
    }
   ],
   "source": [
    "import string\n",
    "stringa = \"Seeking to restore humanity's diminishing hope, the Survey Corps embark on a mission to retake Wall Maria, where the battle against the merciless Titans takes the stage once again.Returning to the tattered Shiganshina District that was once his home, Eren Yeager and the Corps find the town oddly unoccupied by Titans. Even after the outer gate is plugged, they strangely encounter no opposition. The mission progresses smoothly until Armin Arlert, highly suspicious of the enemy's absence, discovers distressing signs of a potential scheme against them. Shingeki no Kyojin Season 3 Part 2 follows Eren as he vows to take back everything that was once his. Alongside him, the Survey Corps strive—through countless sacrifices—to carve a path towards victory and uncover the secrets locked away in the Yeager family's basement\"\n",
    "stringa.translate(str.maketrans('', '', string.punctuation))"
   ]
  },
  {
   "cell_type": "code",
   "execution_count": 21,
   "id": "1d7a2edc-9f5c-465d-9b4a-8697c9796141",
   "metadata": {},
   "outputs": [],
   "source": [
    "from nltk.tokenize import word_tokenize\n",
    "from nltk.stem import PorterStemmer as ps\n",
    "from nltk.tokenize import RegexpTokenizer\n",
    "import json\n",
    "import nltk\n",
    "from collections import defaultdict\n",
    "import csv"
   ]
  },
  {
   "cell_type": "code",
   "execution_count": 27,
   "id": "a1d2a9db-77c5-4da2-a4b0-75854eb6d6b2",
   "metadata": {
    "tags": []
   },
   "outputs": [
    {
     "name": "stderr",
     "output_type": "stream",
     "text": [
      "100%|██████████| 19127/19127 [05:02<00:00, 63.17it/s] \n"
     ]
    }
   ],
   "source": [
    "\n",
    "word_index = defaultdict(list)\n",
    "#n will run through the length of the dataframe\n",
    "n = df.shape[0]\n",
    "for i in tqdm(range(0,n)):\n",
    "    #fetching the anime descriptions\n",
    "    desc = df.iloc[i]['animeDescription']\n",
    "    splitted = desc.translate(str.maketrans('', '', string.punctuation)).split(\" \")\n",
    "    #creating the dictionary for the indices\n",
    "    for word in splitted:\n",
    "        word = word.lower()\n",
    "        if word not in stopwords.words('english'):\n",
    "            if word not in word_index:\n",
    "                word_index[word] = [[i]]\n",
    "            else:\n",
    "                if [i] not in word_index[word]:\n",
    "                    word_index[word].append([i])\n",
    "\n"
   ]
  },
  {
   "cell_type": "code",
   "execution_count": 106,
   "id": "368dc8cc-bd8d-4564-833e-5ce2c66ddd80",
   "metadata": {
    "tags": []
   },
   "outputs": [
    {
     "data": {
      "text/plain": [
       "[[364], [400], [1468], [1962], [2015], [2294], [4339], [4673], [8969], [9229]]"
      ]
     },
     "execution_count": 106,
     "metadata": {},
     "output_type": "execute_result"
    }
   ],
   "source": [
    "word_index['saiyan']"
   ]
  },
  {
   "cell_type": "code",
   "execution_count": 180,
   "id": "803daa7a-fa57-4856-8203-be4b71538a28",
   "metadata": {},
   "outputs": [],
   "source": [
    "def listoflists(list):\n",
    "    flat_list = []\n",
    "    for elem in list:\n",
    "        flat_2 = []\n",
    "        for single in elem:\n",
    "            flat_2.append(single[0])\n",
    "        flat_list.append(flat_2)\n",
    "    return flat_list\n",
    "\n",
    "def ReturnUrl(index):\n",
    "    f = open(\"/Users/mac/Desktop/I'm a data scientist b****/ADM/HMW_3/urls.txt\", encoding=\"utf8\")\n",
    "    stringa = \"\"\n",
    "    for i, line in enumerate(f):\n",
    "        if i == index:\n",
    "            stringa = line\n",
    "    return stringa\n",
    "\n",
    "def search_engine1(query,dataset):\n",
    "  query = query.split(\" \")\n",
    "  f = len(query)\n",
    "  query_indices = []\n",
    "  for index in query:\n",
    "    query_indices.append(word_index[index])  \n",
    "  query_indices = set.intersection(*map(set,listoflists(query_indices)))\n",
    "  query_index = list(set(query_indices))\n",
    "  return(query_index)\n",
    "\n",
    "def displayresults(lista):\n",
    "    disp_res = pd.DataFrame()\n",
    "    disp_res = pd.DataFrame(columns = ['Anime Title','Anime Description','Anime URL'])\n",
    "    res = []\n",
    "    for i in lista:\n",
    "        roba = []\n",
    "        roba.append(df.iloc[i]['animeTitle'])\n",
    "        roba.append(df.iloc[i]['animeDescription'])\n",
    "        if i == 1468:\n",
    "            roba.append(ReturnUrl(i-1))\n",
    "        elif i >372:\n",
    "            roba.append(ReturnUrl(i+1))\n",
    "        else:\n",
    "            roba.append(ReturnUrl(i))\n",
    "        res.append(roba)\n",
    "    index = 0\n",
    "    for elem in res:\n",
    "        disp_res.loc[index] = elem\n",
    "        index += 1\n",
    "    return(display(disp_res))"
   ]
  },
  {
   "cell_type": "code",
   "execution_count": 173,
   "id": "ec36e101-8c94-4502-8c26-83cd2696ce54",
   "metadata": {},
   "outputs": [
    {
     "name": "stdout",
     "output_type": "stream",
     "text": [
      "Donten ni Warau Gaiden: Shukumei, Soutou no Fuuma https://myanimelist.net/anime/905/Dragon_Ball_Z_Movie_12__Fukkatsu_no_Fusion_Gokuu_to_Vegeta\n",
      "\n",
      "Dragon Ball Z Movie 12: Fukkatsu no Fusion!! Gokuu to Vegeta https://myanimelist.net/anime/986/Dragon_Ball_Z_Special_1__Tatta_Hitori_no_Saishuu_Kessen\n",
      "\n",
      "Dragon Ball Z Special 1: Tatta Hitori no Saishuu Kessen https://myanimelist.net/anime/36480/Drifters_OVA\n",
      "\n",
      "Drifters (OVA) https://myanimelist.net/anime/31552/Durararax2_Ten__Onoroke_Chakapoko\n",
      "\n"
     ]
    }
   ],
   "source": [
    "for i in range(1466,1470):\n",
    "    print(df.iloc[i]['animeTitle'],ReturnUrl(i))"
   ]
  },
  {
   "cell_type": "code",
   "execution_count": 179,
   "id": "cf430768-0ca0-4161-8964-c16fd047c8ed",
   "metadata": {
    "tags": []
   },
   "outputs": [
    {
     "data": {
      "text/plain": [
       "(animeTitle                                     Hunter x Hunter (2011)\n",
       " animeType                                                          TV\n",
       " animeNumEpisode                                                   148\n",
       " releaseDate                                       2011-10-02 00:00:00\n",
       " endDate                                           2014-09-24 00:00:00\n",
       " animeNumMembers                                               2148879\n",
       " animeScore                                                       9.06\n",
       " animeUsers                                                    1252938\n",
       " animeRank                                                           7\n",
       " animePopularity                                                    10\n",
       " animeDescription    Hunter x Hunter is set in a world where Hunter...\n",
       " animeRelated        ['Hunter x Hunter', 'Hunter x Hunter: Original...\n",
       " animeCharacters     ['Zoldyck, Killua', 'Kurapika', 'Freecss, Gon'...\n",
       " animeVoices         ['Ise, Mariya', 'Sawashiro, Miyuki', 'Han, Meg...\n",
       " animeStaff          [['Maruyama Masao', ['Producer']], ['Nakatani ...\n",
       " Name: 7, dtype: object,\n",
       " 'https://myanimelist.net/anime/986/Dragon_Ball_Z_Special_1__Tatta_Hitori_no_Saishuu_Kessen\\n')"
      ]
     },
     "execution_count": 179,
     "metadata": {},
     "output_type": "execute_result"
    }
   ],
   "source": [
    "df.iloc[6],ReturnUrl(1467)"
   ]
  },
  {
   "cell_type": "code",
   "execution_count": 181,
   "id": "accd8da9-9ce5-4877-8ebf-9764f3f7e3f4",
   "metadata": {},
   "outputs": [
    {
     "name": "stdin",
     "output_type": "stream",
     "text": [
      "Insert your anime features:  saiyan race\n"
     ]
    },
    {
     "data": {
      "text/html": [
       "<div>\n",
       "<style scoped>\n",
       "    .dataframe tbody tr th:only-of-type {\n",
       "        vertical-align: middle;\n",
       "    }\n",
       "\n",
       "    .dataframe tbody tr th {\n",
       "        vertical-align: top;\n",
       "    }\n",
       "\n",
       "    .dataframe thead th {\n",
       "        text-align: right;\n",
       "    }\n",
       "</style>\n",
       "<table border=\"1\" class=\"dataframe\">\n",
       "  <thead>\n",
       "    <tr style=\"text-align: right;\">\n",
       "      <th></th>\n",
       "      <th>Anime Title</th>\n",
       "      <th>Anime Description</th>\n",
       "      <th>Anime URL</th>\n",
       "    </tr>\n",
       "  </thead>\n",
       "  <tbody>\n",
       "    <tr>\n",
       "      <th>0</th>\n",
       "      <td>Dragon Ball Super: Broly</td>\n",
       "      <td>Forty-one years ago on Planet Vegeta, home of ...</td>\n",
       "      <td>https://myanimelist.net/anime/36946/Dragon_Bal...</td>\n",
       "    </tr>\n",
       "    <tr>\n",
       "      <th>1</th>\n",
       "      <td>Dragon Ball Z Special 1: Tatta Hitori no Saish...</td>\n",
       "      <td>Bardock, Son Goku's father, is a low-ranking S...</td>\n",
       "      <td>https://myanimelist.net/anime/986/Dragon_Ball_...</td>\n",
       "    </tr>\n",
       "    <tr>\n",
       "      <th>2</th>\n",
       "      <td>Dragon Ball Z</td>\n",
       "      <td>Five years after winning the World Martial Art...</td>\n",
       "      <td>https://myanimelist.net/anime/813/Dragon_Ball_Z\\n</td>\n",
       "    </tr>\n",
       "  </tbody>\n",
       "</table>\n",
       "</div>"
      ],
      "text/plain": [
       "                                         Anime Title  \\\n",
       "0                           Dragon Ball Super: Broly   \n",
       "1  Dragon Ball Z Special 1: Tatta Hitori no Saish...   \n",
       "2                                      Dragon Ball Z   \n",
       "\n",
       "                                   Anime Description  \\\n",
       "0  Forty-one years ago on Planet Vegeta, home of ...   \n",
       "1  Bardock, Son Goku's father, is a low-ranking S...   \n",
       "2  Five years after winning the World Martial Art...   \n",
       "\n",
       "                                           Anime URL  \n",
       "0  https://myanimelist.net/anime/36946/Dragon_Bal...  \n",
       "1  https://myanimelist.net/anime/986/Dragon_Ball_...  \n",
       "2  https://myanimelist.net/anime/813/Dragon_Ball_Z\\n  "
      ]
     },
     "metadata": {},
     "output_type": "display_data"
    },
    {
     "data": {
      "text/plain": [
       "([400, 1468, 364], None)"
      ]
     },
     "execution_count": 181,
     "metadata": {},
     "output_type": "execute_result"
    }
   ],
   "source": [
    "query = str(input(\"Insert your anime features: \"))\n",
    "search_engine1(query,df),displayresults(search_engine1(query,df))"
   ]
  },
  {
   "cell_type": "code",
   "execution_count": 162,
   "id": "9d8bb0ea-f31b-405b-8250-33fb7cc841cf",
   "metadata": {},
   "outputs": [
    {
     "data": {
      "text/plain": [
       "'https://myanimelist.net/anime/986/Dragon_Ball_Z_Special_1__Tatta_Hitori_no_Saishuu_Kessen\\n'"
      ]
     },
     "execution_count": 162,
     "metadata": {},
     "output_type": "execute_result"
    }
   ],
   "source": [
    "ReturnUrl(1467)"
   ]
  },
  {
   "cell_type": "code",
   "execution_count": null,
   "id": "b884fe82-69ef-4a7c-95ad-266e5fece25e",
   "metadata": {},
   "outputs": [],
   "source": [
    "res"
   ]
  },
  {
   "cell_type": "code",
   "execution_count": 155,
   "id": "6744ec0a-d3d7-43ec-93fc-cbf5bbf4c40c",
   "metadata": {},
   "outputs": [],
   "source": [
    "import pickle\n",
    "with open('word_index.pkl', 'rb') as f:\n",
    "    data = pickle.load(f)"
   ]
  },
  {
   "cell_type": "code",
   "execution_count": null,
   "id": "61fc9088-6355-4cd3-b79b-3a83038e3a4d",
   "metadata": {},
   "outputs": [],
   "source": []
  }
 ],
 "metadata": {
  "kernelspec": {
   "display_name": "Python 3 (ipykernel)",
   "language": "python",
   "name": "python3"
  },
  "language_info": {
   "codemirror_mode": {
    "name": "ipython",
    "version": 3
   },
   "file_extension": ".py",
   "mimetype": "text/x-python",
   "name": "python",
   "nbconvert_exporter": "python",
   "pygments_lexer": "ipython3",
   "version": "3.8.2"
  }
 },
 "nbformat": 4,
 "nbformat_minor": 5
}
