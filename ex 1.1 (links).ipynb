{
 "cells": [
  {
   "cell_type": "code",
   "execution_count": null,
   "id": "f70fddfb-fed2-47c5-a99d-2eda94305c73",
   "metadata": {},
   "outputs": [],
   "source": [
    "!pip3 install beautifulsoup4"
   ]
  },
  {
   "cell_type": "code",
   "execution_count": null,
   "id": "34b47b68-1a06-48d2-ba2a-1cfe48337489",
   "metadata": {},
   "outputs": [],
   "source": [
    "!pip3 install lxml"
   ]
  },
  {
   "cell_type": "code",
   "execution_count": null,
   "id": "6e1f586f-226e-4e7b-bd5c-cfc9994030be",
   "metadata": {},
   "outputs": [],
   "source": [
    "!conda install requests"
   ]
  },
  {
   "cell_type": "code",
   "execution_count": 36,
   "id": "116b0de0-3994-42b2-b0cf-33086b1ff2d5",
   "metadata": {},
   "outputs": [],
   "source": [
    "from bs4 import BeautifulSoup\n",
    "import lxml\n",
    "import requests\n",
    "import re\n",
    "from tqdm import tqdm"
   ]
  },
  {
   "cell_type": "code",
   "execution_count": 38,
   "id": "9d4fa34b-3f83-4772-8144-0227d2f284b1",
   "metadata": {},
   "outputs": [
    {
     "name": "stderr",
     "output_type": "stream",
     "text": [
      "100%|████████████████████████████████████████████████████████████████████████████████| 400/400 [09:55<00:00,  1.49s/it]\n"
     ]
    }
   ],
   "source": [
    "with open('links.txt', 'w',encoding='utf-8') as f:\n",
    "    for i in tqdm(range(0,20000,50)):\n",
    "        cnt = requests.get(\"https://myanimelist.net/topanime.php?limit={}\".format(i))\n",
    "        soup = BeautifulSoup(cnt.content, features=\"lxml\")\n",
    "        links = soup.find_all(id=re.compile('^#area[0-9]*'), class_=False)\n",
    "\n",
    "        for link in links:\n",
    "            fullLink = link.get('href')\n",
    "            f.write(fullLink)\n",
    "            f.write('\\n')\n",
    "    f.close()"
   ]
  }
 ],
 "metadata": {
  "kernelspec": {
   "display_name": "Laboratorio",
   "language": "python",
   "name": "laboratorio"
  },
  "language_info": {
   "codemirror_mode": {
    "name": "ipython",
    "version": 3
   },
   "file_extension": ".py",
   "mimetype": "text/x-python",
   "name": "python",
   "nbconvert_exporter": "python",
   "pygments_lexer": "ipython3",
   "version": "3.9.2"
  }
 },
 "nbformat": 4,
 "nbformat_minor": 5
}
